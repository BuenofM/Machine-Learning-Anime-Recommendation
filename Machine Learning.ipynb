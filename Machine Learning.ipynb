{
 "cells": [
  {
   "cell_type": "markdown",
   "metadata": {},
   "source": [
    "# Machine Learning: Anime Recommendation"
   ]
  },
  {
   "cell_type": "markdown",
   "metadata": {},
   "source": [
    "#### Data Collection"
   ]
  },
  {
   "cell_type": "code",
   "execution_count": 1,
   "metadata": {},
   "outputs": [],
   "source": [
    "import kaggle"
   ]
  },
  {
   "cell_type": "code",
   "execution_count": 2,
   "metadata": {},
   "outputs": [
    {
     "name": "stdout",
     "output_type": "stream",
     "text": [
      "Downloading anime-recommendations-database.zip to C:\\Users\\nclee\\Documents\\Education\\Ironhack\\Project-Anime\n",
      "\n"
     ]
    },
    {
     "name": "stderr",
     "output_type": "stream",
     "text": [
      "\n",
      "  0%|          | 0.00/25.0M [00:00<?, ?B/s]\n",
      "  4%|3         | 1.00M/25.0M [00:00<00:02, 8.98MB/s]\n",
      "  8%|7         | 2.00M/25.0M [00:00<00:02, 9.33MB/s]\n",
      " 12%|#1        | 3.00M/25.0M [00:00<00:02, 9.64MB/s]\n",
      " 20%|#9        | 5.00M/25.0M [00:00<00:02, 10.3MB/s]\n",
      " 24%|##3       | 6.00M/25.0M [00:00<00:02, 9.88MB/s]\n",
      " 28%|##7       | 7.00M/25.0M [00:00<00:02, 9.38MB/s]\n",
      " 36%|###5      | 9.00M/25.0M [00:01<00:02, 8.02MB/s]\n",
      " 44%|####3     | 11.0M/25.0M [00:01<00:01, 8.56MB/s]\n",
      " 52%|#####1    | 13.0M/25.0M [00:01<00:01, 9.19MB/s]\n",
      " 56%|#####5    | 14.0M/25.0M [00:01<00:01, 9.45MB/s]\n",
      " 60%|#####9    | 15.0M/25.0M [00:01<00:01, 9.61MB/s]\n",
      " 68%|######7   | 17.0M/25.0M [00:01<00:00, 10.2MB/s]\n",
      " 72%|#######1  | 18.0M/25.0M [00:01<00:00, 10.2MB/s]\n",
      " 76%|#######5  | 19.0M/25.0M [00:02<00:00, 9.95MB/s]\n",
      " 80%|#######9  | 20.0M/25.0M [00:02<00:00, 9.64MB/s]\n",
      " 88%|########7 | 22.0M/25.0M [00:02<00:00, 10.5MB/s]\n",
      " 96%|#########5| 24.0M/25.0M [00:02<00:00, 10.9MB/s]\n",
      "100%|##########| 25.0M/25.0M [00:02<00:00, 10.0MB/s]\n"
     ]
    }
   ],
   "source": [
    "!kaggle datasets download -d CooperUnion/anime-recommendations-database --unzip"
   ]
  },
  {
   "cell_type": "markdown",
   "metadata": {},
   "source": [
    "##### Libraries"
   ]
  },
  {
   "cell_type": "code",
   "execution_count": 3,
   "metadata": {},
   "outputs": [],
   "source": [
    "import numpy as np\n",
    "import pandas as pd\n",
    "import matplotlib.pyplot as plt\n",
    "import seaborn as sns\n",
    "\n",
    "%matplotlib inline\n",
    "sns.set()\n",
    "plt.style.use('seaborn-whitegrid')\n",
    "sns.set_style(\"white\")\n",
    "\n",
    "import scipy.stats as st"
   ]
  },
  {
   "cell_type": "code",
   "execution_count": null,
   "metadata": {},
   "outputs": [],
   "source": []
  }
 ],
 "metadata": {
  "kernelspec": {
   "display_name": "Python 3",
   "language": "python",
   "name": "python3"
  },
  "language_info": {
   "codemirror_mode": {
    "name": "ipython",
    "version": 3
   },
   "file_extension": ".py",
   "mimetype": "text/x-python",
   "name": "python",
   "nbconvert_exporter": "python",
   "pygments_lexer": "ipython3",
   "version": "3.8.2"
  }
 },
 "nbformat": 4,
 "nbformat_minor": 4
}
