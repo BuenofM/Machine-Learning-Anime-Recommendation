{
 "cells": [
  {
   "cell_type": "markdown",
   "metadata": {},
   "source": [
    "# Machine Learning: Anime Recommendation"
   ]
  },
  {
   "cell_type": "markdown",
   "metadata": {},
   "source": [
    "#### Data Collection"
   ]
  },
  {
   "cell_type": "code",
   "execution_count": 1,
   "metadata": {},
   "outputs": [],
   "source": [
    "import kaggle"
   ]
  },
  {
   "cell_type": "code",
   "execution_count": 2,
   "metadata": {},
   "outputs": [
    {
     "name": "stdout",
     "output_type": "stream",
     "text": [
      "Downloading anime-recommendations-database.zip to C:\\Users\\nclee\\Documents\\Education\\Ironhack\\Project-Anime\n",
      "\n"
     ]
    },
    {
     "name": "stderr",
     "output_type": "stream",
     "text": [
      "\n",
      "  0%|          | 0.00/25.0M [00:00<?, ?B/s]\n",
      "  4%|3         | 1.00M/25.0M [00:00<00:02, 8.98MB/s]\n",
      "  8%|7         | 2.00M/25.0M [00:00<00:02, 9.33MB/s]\n",
      " 12%|#1        | 3.00M/25.0M [00:00<00:02, 9.64MB/s]\n",
      " 20%|#9        | 5.00M/25.0M [00:00<00:02, 10.3MB/s]\n",
      " 24%|##3       | 6.00M/25.0M [00:00<00:02, 9.88MB/s]\n",
      " 28%|##7       | 7.00M/25.0M [00:00<00:02, 9.38MB/s]\n",
      " 36%|###5      | 9.00M/25.0M [00:01<00:02, 8.02MB/s]\n",
      " 44%|####3     | 11.0M/25.0M [00:01<00:01, 8.56MB/s]\n",
      " 52%|#####1    | 13.0M/25.0M [00:01<00:01, 9.19MB/s]\n",
      " 56%|#####5    | 14.0M/25.0M [00:01<00:01, 9.45MB/s]\n",
      " 60%|#####9    | 15.0M/25.0M [00:01<00:01, 9.61MB/s]\n",
      " 68%|######7   | 17.0M/25.0M [00:01<00:00, 10.2MB/s]\n",
      " 72%|#######1  | 18.0M/25.0M [00:01<00:00, 10.2MB/s]\n",
      " 76%|#######5  | 19.0M/25.0M [00:02<00:00, 9.95MB/s]\n",
      " 80%|#######9  | 20.0M/25.0M [00:02<00:00, 9.64MB/s]\n",
      " 88%|########7 | 22.0M/25.0M [00:02<00:00, 10.5MB/s]\n",
      " 96%|#########5| 24.0M/25.0M [00:02<00:00, 10.9MB/s]\n",
      "100%|##########| 25.0M/25.0M [00:02<00:00, 10.0MB/s]\n"
     ]
    }
   ],
   "source": [
    "!kaggle datasets download -d CooperUnion/anime-recommendations-database --unzip"
   ]
  },
  {
   "cell_type": "code",
   "execution_count": 85,
   "metadata": {},
   "outputs": [
    {
     "name": "stdout",
     "output_type": "stream",
     "text": [
      "Downloading 28524%2F45582%2Fcompressed%2FAnimeList.csv.zip to C:\\Users\\nclee\\Documents\\Education\\Ironhack\\Project-Anime\n",
      "\n"
     ]
    },
    {
     "name": "stderr",
     "output_type": "stream",
     "text": [
      "\n",
      "  0%|          | 0.00/3.02M [00:00<?, ?B/s]\n",
      " 33%|###3      | 1.00M/3.02M [00:00<00:00, 3.55MB/s]\n",
      " 66%|######6   | 2.00M/3.02M [00:00<00:00, 3.37MB/s]\n",
      " 99%|#########9| 3.00M/3.02M [00:00<00:00, 3.39MB/s]\n",
      "100%|##########| 3.02M/3.02M [00:00<00:00, 3.33MB/s]\n"
     ]
    }
   ],
   "source": [
    "!kaggle datasets download -d azathoth42/myanimelist -f AnimeList.csv --unzip"
   ]
  },
  {
   "cell_type": "code",
   "execution_count": 86,
   "metadata": {},
   "outputs": [],
   "source": [
    "import zipfile"
   ]
  },
  {
   "cell_type": "code",
   "execution_count": 88,
   "metadata": {},
   "outputs": [],
   "source": [
    "with zipfile.ZipFile(\"28524%2F45582%2Fcompressed%2FAnimeList.csv.zip\", 'r') as zip_ref:\n",
    "    zip_ref.extractall(\"\")"
   ]
  },
  {
   "cell_type": "markdown",
   "metadata": {},
   "source": [
    "##### Libraries"
   ]
  },
  {
   "cell_type": "code",
   "execution_count": 1,
   "metadata": {},
   "outputs": [],
   "source": [
    "import numpy as np\n",
    "import pandas as pd\n",
    "import matplotlib.pyplot as plt\n",
    "import seaborn as sns\n",
    "\n",
    "%matplotlib inline\n",
    "sns.set()\n",
    "plt.style.use('seaborn-whitegrid')\n",
    "sns.set_style(\"white\")\n",
    "\n",
    "import scipy.stats as st"
   ]
  },
  {
   "cell_type": "markdown",
   "metadata": {},
   "source": [
    "## Data Preparation"
   ]
  },
  {
   "cell_type": "code",
   "execution_count": 2,
   "metadata": {},
   "outputs": [],
   "source": [
    "anime=pd.read_csv(\"anime.csv\", index_col=\"anime_id\")"
   ]
  },
  {
   "cell_type": "code",
   "execution_count": 3,
   "metadata": {},
   "outputs": [
    {
     "data": {
      "text/plain": [
       "name          0\n",
       "genre        62\n",
       "type         25\n",
       "episodes      0\n",
       "rating      230\n",
       "members       0\n",
       "dtype: int64"
      ]
     },
     "execution_count": 3,
     "metadata": {},
     "output_type": "execute_result"
    }
   ],
   "source": [
    "anime.isna().sum()"
   ]
  },
  {
   "cell_type": "code",
   "execution_count": 4,
   "metadata": {},
   "outputs": [],
   "source": [
    "# dropping those with NA in \"genre\", \"type\", \"rating\"\n",
    "anime[anime.loc[:, [\"genre\", \"type\", \"rating\"]].isna().all(axis=1)]\n",
    "anime.drop(anime[anime.loc[:, [\"genre\", \"type\", \"rating\"]].isna().all(axis=1)].index, axis=0, inplace=True)"
   ]
  },
  {
   "cell_type": "code",
   "execution_count": 6,
   "metadata": {},
   "outputs": [],
   "source": [
    "# updated list to fill in the gaps in data\n",
    "animelist=pd.read_csv(\"AnimeList.csv\")"
   ]
  },
  {
   "cell_type": "code",
   "execution_count": 7,
   "metadata": {},
   "outputs": [],
   "source": [
    "# trying to fill in the missing type information from new animelist, there are still \"Unknown\"\n",
    "anime.type.fillna(animelist.set_index(\"anime_id\").type, inplace=True)"
   ]
  },
  {
   "cell_type": "code",
   "execution_count": 8,
   "metadata": {},
   "outputs": [
    {
     "data": {
      "text/html": [
       "<div>\n",
       "<style scoped>\n",
       "    .dataframe tbody tr th:only-of-type {\n",
       "        vertical-align: middle;\n",
       "    }\n",
       "\n",
       "    .dataframe tbody tr th {\n",
       "        vertical-align: top;\n",
       "    }\n",
       "\n",
       "    .dataframe thead th {\n",
       "        text-align: right;\n",
       "    }\n",
       "</style>\n",
       "<table border=\"1\" class=\"dataframe\">\n",
       "  <thead>\n",
       "    <tr style=\"text-align: right;\">\n",
       "      <th></th>\n",
       "      <th>name</th>\n",
       "      <th>genre</th>\n",
       "      <th>type</th>\n",
       "      <th>episodes</th>\n",
       "      <th>rating</th>\n",
       "      <th>members</th>\n",
       "    </tr>\n",
       "    <tr>\n",
       "      <th>anime_id</th>\n",
       "      <th></th>\n",
       "      <th></th>\n",
       "      <th></th>\n",
       "      <th></th>\n",
       "      <th></th>\n",
       "      <th></th>\n",
       "    </tr>\n",
       "  </thead>\n",
       "  <tbody>\n",
       "    <tr>\n",
       "      <th>34437</th>\n",
       "      <td>Code Geass: Fukkatsu no Lelouch</td>\n",
       "      <td>Action, Drama, Mecha, Military, Sci-Fi, Super ...</td>\n",
       "      <td>Unknown</td>\n",
       "      <td>Unknown</td>\n",
       "      <td>NaN</td>\n",
       "      <td>22748</td>\n",
       "    </tr>\n",
       "    <tr>\n",
       "      <th>32455</th>\n",
       "      <td>Gekidol</td>\n",
       "      <td>Music</td>\n",
       "      <td>Unknown</td>\n",
       "      <td>Unknown</td>\n",
       "      <td>NaN</td>\n",
       "      <td>586</td>\n",
       "    </tr>\n",
       "    <tr>\n",
       "      <th>28613</th>\n",
       "      <td>Ginga Jinpuu Jinraiger</td>\n",
       "      <td>Action, Adventure, Mecha</td>\n",
       "      <td>Unknown</td>\n",
       "      <td>Unknown</td>\n",
       "      <td>NaN</td>\n",
       "      <td>627</td>\n",
       "    </tr>\n",
       "    <tr>\n",
       "      <th>30448</th>\n",
       "      <td>Mirai Arise</td>\n",
       "      <td>Sci-Fi</td>\n",
       "      <td>Unknown</td>\n",
       "      <td>Unknown</td>\n",
       "      <td>NaN</td>\n",
       "      <td>4044</td>\n",
       "    </tr>\n",
       "    <tr>\n",
       "      <th>24023</th>\n",
       "      <td>Project758</td>\n",
       "      <td>Drama</td>\n",
       "      <td>Unknown</td>\n",
       "      <td>Unknown</td>\n",
       "      <td>NaN</td>\n",
       "      <td>455</td>\n",
       "    </tr>\n",
       "    <tr>\n",
       "      <th>34348</th>\n",
       "      <td>Rescue Academia</td>\n",
       "      <td>Drama</td>\n",
       "      <td>Unknown</td>\n",
       "      <td>Unknown</td>\n",
       "      <td>NaN</td>\n",
       "      <td>65</td>\n",
       "    </tr>\n",
       "  </tbody>\n",
       "</table>\n",
       "</div>"
      ],
      "text/plain": [
       "                                     name  \\\n",
       "anime_id                                    \n",
       "34437     Code Geass: Fukkatsu no Lelouch   \n",
       "32455                             Gekidol   \n",
       "28613              Ginga Jinpuu Jinraiger   \n",
       "30448                         Mirai Arise   \n",
       "24023                          Project758   \n",
       "34348                     Rescue Academia   \n",
       "\n",
       "                                                      genre     type episodes  \\\n",
       "anime_id                                                                        \n",
       "34437     Action, Drama, Mecha, Military, Sci-Fi, Super ...  Unknown  Unknown   \n",
       "32455                                                 Music  Unknown  Unknown   \n",
       "28613                              Action, Adventure, Mecha  Unknown  Unknown   \n",
       "30448                                                Sci-Fi  Unknown  Unknown   \n",
       "24023                                                 Drama  Unknown  Unknown   \n",
       "34348                                                 Drama  Unknown  Unknown   \n",
       "\n",
       "          rating  members  \n",
       "anime_id                   \n",
       "34437        NaN    22748  \n",
       "32455        NaN      586  \n",
       "28613        NaN      627  \n",
       "30448        NaN     4044  \n",
       "24023        NaN      455  \n",
       "34348        NaN       65  "
      ]
     },
     "execution_count": 8,
     "metadata": {},
     "output_type": "execute_result"
    }
   ],
   "source": [
    "anime[anime.type==\"Unknown\"]"
   ]
  },
  {
   "cell_type": "code",
   "execution_count": 9,
   "metadata": {},
   "outputs": [],
   "source": [
    "# fill in the rest by research\n",
    "anime_type={34437: \"Movie\", 32455: \"TV\", 28613: \"TV\", 30448: \"TV\", 24023: \"TV\", 34348: \"TV\"}\n",
    "anime.loc[anime.type==\"Unknown\", \"type\"]=anime[anime.type==\"Unknown\"].index.map(anime_type)"
   ]
  },
  {
   "cell_type": "code",
   "execution_count": 10,
   "metadata": {},
   "outputs": [],
   "source": [
    "# creating a dummy column for airing using episode as an indicator\n",
    "anime[\"airing\"]=np.where(anime.episodes==\"Unknown\", 1, 0)"
   ]
  },
  {
   "cell_type": "code",
   "execution_count": 22,
   "metadata": {},
   "outputs": [],
   "source": [
    "anime[\"episodes\"]=np.where(anime.episodes==\"Unknown\", 0, anime.episodes)"
   ]
  },
  {
   "cell_type": "code",
   "execution_count": 11,
   "metadata": {},
   "outputs": [],
   "source": [
    "# creating a dummy column for whether it was NA for rating\n",
    "anime[\"rate_na\"]=np.where(anime.rating.isna(), 1, 0)"
   ]
  },
  {
   "cell_type": "code",
   "execution_count": 16,
   "metadata": {},
   "outputs": [],
   "source": [
    "# fill all the NA in rating as 0\n",
    "anime.rating.fillna(0, inplace=True)"
   ]
  },
  {
   "cell_type": "code",
   "execution_count": 23,
   "metadata": {},
   "outputs": [
    {
     "data": {
      "text/html": [
       "<div>\n",
       "<style scoped>\n",
       "    .dataframe tbody tr th:only-of-type {\n",
       "        vertical-align: middle;\n",
       "    }\n",
       "\n",
       "    .dataframe tbody tr th {\n",
       "        vertical-align: top;\n",
       "    }\n",
       "\n",
       "    .dataframe thead th {\n",
       "        text-align: right;\n",
       "    }\n",
       "</style>\n",
       "<table border=\"1\" class=\"dataframe\">\n",
       "  <thead>\n",
       "    <tr style=\"text-align: right;\">\n",
       "      <th></th>\n",
       "      <th>name</th>\n",
       "      <th>genre</th>\n",
       "      <th>type</th>\n",
       "      <th>episodes</th>\n",
       "      <th>rating</th>\n",
       "      <th>members</th>\n",
       "      <th>airing</th>\n",
       "      <th>rate_na</th>\n",
       "    </tr>\n",
       "  </thead>\n",
       "  <tbody>\n",
       "    <tr>\n",
       "      <th>count</th>\n",
       "      <td>12291</td>\n",
       "      <td>12232</td>\n",
       "      <td>12291</td>\n",
       "      <td>12291</td>\n",
       "      <td>12291.000000</td>\n",
       "      <td>1.229100e+04</td>\n",
       "      <td>12291.000000</td>\n",
       "      <td>12291.000000</td>\n",
       "    </tr>\n",
       "    <tr>\n",
       "      <th>unique</th>\n",
       "      <td>12289</td>\n",
       "      <td>3264</td>\n",
       "      <td>6</td>\n",
       "      <td>187</td>\n",
       "      <td>NaN</td>\n",
       "      <td>NaN</td>\n",
       "      <td>NaN</td>\n",
       "      <td>NaN</td>\n",
       "    </tr>\n",
       "    <tr>\n",
       "      <th>top</th>\n",
       "      <td>Shi Wan Ge Leng Xiaohua</td>\n",
       "      <td>Hentai</td>\n",
       "      <td>TV</td>\n",
       "      <td>1</td>\n",
       "      <td>NaN</td>\n",
       "      <td>NaN</td>\n",
       "      <td>NaN</td>\n",
       "      <td>NaN</td>\n",
       "    </tr>\n",
       "    <tr>\n",
       "      <th>freq</th>\n",
       "      <td>2</td>\n",
       "      <td>823</td>\n",
       "      <td>3805</td>\n",
       "      <td>5677</td>\n",
       "      <td>NaN</td>\n",
       "      <td>NaN</td>\n",
       "      <td>NaN</td>\n",
       "      <td>NaN</td>\n",
       "    </tr>\n",
       "    <tr>\n",
       "      <th>mean</th>\n",
       "      <td>NaN</td>\n",
       "      <td>NaN</td>\n",
       "      <td>NaN</td>\n",
       "      <td>NaN</td>\n",
       "      <td>6.354337</td>\n",
       "      <td>1.807560e+04</td>\n",
       "      <td>0.027418</td>\n",
       "      <td>0.018469</td>\n",
       "    </tr>\n",
       "    <tr>\n",
       "      <th>std</th>\n",
       "      <td>NaN</td>\n",
       "      <td>NaN</td>\n",
       "      <td>NaN</td>\n",
       "      <td>NaN</td>\n",
       "      <td>1.339610</td>\n",
       "      <td>5.482669e+04</td>\n",
       "      <td>0.163306</td>\n",
       "      <td>0.134645</td>\n",
       "    </tr>\n",
       "    <tr>\n",
       "      <th>min</th>\n",
       "      <td>NaN</td>\n",
       "      <td>NaN</td>\n",
       "      <td>NaN</td>\n",
       "      <td>NaN</td>\n",
       "      <td>0.000000</td>\n",
       "      <td>5.000000e+00</td>\n",
       "      <td>0.000000</td>\n",
       "      <td>0.000000</td>\n",
       "    </tr>\n",
       "    <tr>\n",
       "      <th>25%</th>\n",
       "      <td>NaN</td>\n",
       "      <td>NaN</td>\n",
       "      <td>NaN</td>\n",
       "      <td>NaN</td>\n",
       "      <td>5.820000</td>\n",
       "      <td>2.255000e+02</td>\n",
       "      <td>0.000000</td>\n",
       "      <td>0.000000</td>\n",
       "    </tr>\n",
       "    <tr>\n",
       "      <th>50%</th>\n",
       "      <td>NaN</td>\n",
       "      <td>NaN</td>\n",
       "      <td>NaN</td>\n",
       "      <td>NaN</td>\n",
       "      <td>6.550000</td>\n",
       "      <td>1.551000e+03</td>\n",
       "      <td>0.000000</td>\n",
       "      <td>0.000000</td>\n",
       "    </tr>\n",
       "    <tr>\n",
       "      <th>75%</th>\n",
       "      <td>NaN</td>\n",
       "      <td>NaN</td>\n",
       "      <td>NaN</td>\n",
       "      <td>NaN</td>\n",
       "      <td>7.170000</td>\n",
       "      <td>9.443000e+03</td>\n",
       "      <td>0.000000</td>\n",
       "      <td>0.000000</td>\n",
       "    </tr>\n",
       "    <tr>\n",
       "      <th>max</th>\n",
       "      <td>NaN</td>\n",
       "      <td>NaN</td>\n",
       "      <td>NaN</td>\n",
       "      <td>NaN</td>\n",
       "      <td>10.000000</td>\n",
       "      <td>1.013917e+06</td>\n",
       "      <td>1.000000</td>\n",
       "      <td>1.000000</td>\n",
       "    </tr>\n",
       "  </tbody>\n",
       "</table>\n",
       "</div>"
      ],
      "text/plain": [
       "                           name   genre   type episodes        rating  \\\n",
       "count                     12291   12232  12291    12291  12291.000000   \n",
       "unique                    12289    3264      6      187           NaN   \n",
       "top     Shi Wan Ge Leng Xiaohua  Hentai     TV        1           NaN   \n",
       "freq                          2     823   3805     5677           NaN   \n",
       "mean                        NaN     NaN    NaN      NaN      6.354337   \n",
       "std                         NaN     NaN    NaN      NaN      1.339610   \n",
       "min                         NaN     NaN    NaN      NaN      0.000000   \n",
       "25%                         NaN     NaN    NaN      NaN      5.820000   \n",
       "50%                         NaN     NaN    NaN      NaN      6.550000   \n",
       "75%                         NaN     NaN    NaN      NaN      7.170000   \n",
       "max                         NaN     NaN    NaN      NaN     10.000000   \n",
       "\n",
       "             members        airing       rate_na  \n",
       "count   1.229100e+04  12291.000000  12291.000000  \n",
       "unique           NaN           NaN           NaN  \n",
       "top              NaN           NaN           NaN  \n",
       "freq             NaN           NaN           NaN  \n",
       "mean    1.807560e+04      0.027418      0.018469  \n",
       "std     5.482669e+04      0.163306      0.134645  \n",
       "min     5.000000e+00      0.000000      0.000000  \n",
       "25%     2.255000e+02      0.000000      0.000000  \n",
       "50%     1.551000e+03      0.000000      0.000000  \n",
       "75%     9.443000e+03      0.000000      0.000000  \n",
       "max     1.013917e+06      1.000000      1.000000  "
      ]
     },
     "execution_count": 23,
     "metadata": {},
     "output_type": "execute_result"
    }
   ],
   "source": [
    "anime.describe(include=\"all\")"
   ]
  },
  {
   "cell_type": "code",
   "execution_count": null,
   "metadata": {},
   "outputs": [],
   "source": []
  }
 ],
 "metadata": {
  "kernelspec": {
   "display_name": "Python 3",
   "language": "python",
   "name": "python3"
  },
  "language_info": {
   "codemirror_mode": {
    "name": "ipython",
    "version": 3
   },
   "file_extension": ".py",
   "mimetype": "text/x-python",
   "name": "python",
   "nbconvert_exporter": "python",
   "pygments_lexer": "ipython3",
   "version": "3.8.2"
  }
 },
 "nbformat": 4,
 "nbformat_minor": 4
}
